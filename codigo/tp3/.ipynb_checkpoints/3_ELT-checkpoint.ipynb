{
 "cells": [
  {
   "cell_type": "code",
   "execution_count": 2,
   "metadata": {},
   "outputs": [],
   "source": [
    "import sqlalchemy as alchemy\n",
    "from sqlalchemy.ext.declarative import declarative_base\n",
    "from sqlalchemy import Column, Integer, String, Date, Float, BigInteger\n",
    "from sqlalchemy.orm import sessionmaker\n",
    "import matplotlib.pyplot as plt\n",
    "import pandas as pd \n",
    "import os"
   ]
  },
  {
   "cell_type": "code",
   "execution_count": 11,
   "metadata": {},
   "outputs": [
    {
     "name": "stdout",
     "output_type": "stream",
     "text": [
      "2017-10-08 01:27:56,181 INFO sqlalchemy.engine.base.Engine select version()\n",
      "2017-10-08 01:27:56,186 INFO sqlalchemy.engine.base.Engine {}\n",
      "2017-10-08 01:27:56,192 INFO sqlalchemy.engine.base.Engine select current_schema()\n",
      "2017-10-08 01:27:56,197 INFO sqlalchemy.engine.base.Engine {}\n",
      "2017-10-08 01:27:56,204 INFO sqlalchemy.engine.base.Engine SELECT CAST('test plain returns' AS VARCHAR(60)) AS anon_1\n",
      "2017-10-08 01:27:56,205 INFO sqlalchemy.engine.base.Engine {}\n",
      "2017-10-08 01:27:56,208 INFO sqlalchemy.engine.base.Engine SELECT CAST('test unicode returns' AS VARCHAR(60)) AS anon_1\n",
      "2017-10-08 01:27:56,210 INFO sqlalchemy.engine.base.Engine {}\n",
      "2017-10-08 01:27:56,215 INFO sqlalchemy.engine.base.Engine show standard_conforming_strings\n",
      "2017-10-08 01:27:56,217 INFO sqlalchemy.engine.base.Engine {}\n",
      "2017-10-08 01:27:56,221 INFO sqlalchemy.engine.base.Engine commit\n",
      "2017-10-08 01:27:56,223 INFO sqlalchemy.engine.base.Engine {}\n",
      "2017-10-08 01:27:56,232 INFO sqlalchemy.engine.base.Engine create database tp3_elt\n",
      "2017-10-08 01:27:56,234 INFO sqlalchemy.engine.base.Engine {}\n",
      "2017-10-08 01:27:56,238 INFO sqlalchemy.engine.base.Engine ROLLBACK\n",
      "(psycopg2.ProgrammingError) database \"tp3_elt\" already exists\n",
      " [SQL: 'create database tp3_elt']\n"
     ]
    }
   ],
   "source": [
    "NOMBRE_DB = 'tp3_elt'\n",
    "USUARIO_DB = os.environ.get('USUARIO_DB', 'postgres') #'gaston'\n",
    "PASSWORD_DB = os.environ.get('PASSWORD_DB', 'postgres') #'gastonm1'\n",
    "HOST_DB=os.environ.get('HOST_DB','localhost')\n",
    "PORT_DB = os.environ.get('PORT_DB', 5432)\n",
    "\n",
    "url_db = 'postgresql+psycopg2://%s:%s@%s:%d/'%(USUARIO_DB, PASSWORD_DB, HOST_DB, int(PORT_DB))\n",
    " \n",
    "engine = alchemy.create_engine(url_db, echo=True)\n",
    "try:\n",
    "    conn = engine.connect()\n",
    "    conn.execute(\"commit\")\n",
    "    conn.execute(\"create database \" + NOMBRE_DB)\n",
    "    conn.close()\n",
    "except Exception as e:\n",
    "    print str(e)\n",
    "url_db = 'postgresql+psycopg2://%s:%s@%s:%d/%s'%(USUARIO_DB, PASSWORD_DB, HOST_DB, int(PORT_DB), NOMBRE_DB)\n",
    "\n",
    "engine = alchemy.create_engine(url_db, echo=True)\n",
    "\n"
   ]
  },
  {
   "cell_type": "code",
   "execution_count": 12,
   "metadata": {},
   "outputs": [],
   "source": [
    "Base = declarative_base()"
   ]
  },
  {
   "cell_type": "code",
   "execution_count": 13,
   "metadata": {},
   "outputs": [],
   "source": [
    "class Ciudad(Base):\n",
    "    __tablename__ = 'Ciudad'\n",
    "    \n",
    "    id = Column(Integer, primary_key=True)\n",
    "    nombre = Column(String)\n",
    "    producto = Column(Integer)\n"
   ]
  },
  {
   "cell_type": "code",
   "execution_count": 14,
   "metadata": {},
   "outputs": [
    {
     "name": "stdout",
     "output_type": "stream",
     "text": [
      "2017-10-08 01:28:05,581 INFO sqlalchemy.engine.base.Engine select version()\n",
      "2017-10-08 01:28:05,584 INFO sqlalchemy.engine.base.Engine {}\n",
      "2017-10-08 01:28:05,597 INFO sqlalchemy.engine.base.Engine select current_schema()\n",
      "2017-10-08 01:28:05,604 INFO sqlalchemy.engine.base.Engine {}\n",
      "2017-10-08 01:28:05,610 INFO sqlalchemy.engine.base.Engine SELECT CAST('test plain returns' AS VARCHAR(60)) AS anon_1\n",
      "2017-10-08 01:28:05,612 INFO sqlalchemy.engine.base.Engine {}\n",
      "2017-10-08 01:28:05,616 INFO sqlalchemy.engine.base.Engine SELECT CAST('test unicode returns' AS VARCHAR(60)) AS anon_1\n",
      "2017-10-08 01:28:05,623 INFO sqlalchemy.engine.base.Engine {}\n",
      "2017-10-08 01:28:05,631 INFO sqlalchemy.engine.base.Engine show standard_conforming_strings\n",
      "2017-10-08 01:28:05,633 INFO sqlalchemy.engine.base.Engine {}\n",
      "2017-10-08 01:28:05,638 INFO sqlalchemy.engine.base.Engine select relname from pg_class c join pg_namespace n on n.oid=c.relnamespace where pg_catalog.pg_table_is_visible(c.oid) and relname=%(name)s\n",
      "2017-10-08 01:28:05,640 INFO sqlalchemy.engine.base.Engine {'name': u'Ciudad'}\n",
      "2017-10-08 01:28:05,650 INFO sqlalchemy.engine.base.Engine \n",
      "CREATE TABLE \"Ciudad\" (\n",
      "\tid SERIAL NOT NULL, \n",
      "\tnombre VARCHAR, \n",
      "\tproducto INTEGER, \n",
      "\tPRIMARY KEY (id)\n",
      ")\n",
      "\n",
      "\n",
      "2017-10-08 01:28:05,652 INFO sqlalchemy.engine.base.Engine {}\n",
      "2017-10-08 01:28:05,795 INFO sqlalchemy.engine.base.Engine COMMIT\n"
     ]
    }
   ],
   "source": [
    "Base.metadata.create_all(engine)"
   ]
  },
  {
   "cell_type": "markdown",
   "metadata": {},
   "source": [
    "## 1) Tomar datos de un archivo csv, de json y una db SQL"
   ]
  },
  {
   "cell_type": "markdown",
   "metadata": {},
   "source": [
    "### Lectura SQL"
   ]
  },
  {
   "cell_type": "code",
   "execution_count": 15,
   "metadata": {},
   "outputs": [
    {
     "name": "stdout",
     "output_type": "stream",
     "text": [
      "2017-10-08 01:28:09,342 INFO sqlalchemy.engine.base.Engine select relname from pg_class c join pg_namespace n on n.oid=c.relnamespace where pg_catalog.pg_table_is_visible(c.oid) and relname=%(name)s\n",
      "2017-10-08 01:28:09,350 INFO sqlalchemy.engine.base.Engine {'name': u'select * from \"Ciudad\"'}\n",
      "2017-10-08 01:28:09,355 INFO sqlalchemy.engine.base.Engine select * from \"Ciudad\"\n",
      "2017-10-08 01:28:09,359 INFO sqlalchemy.engine.base.Engine {}\n"
     ]
    },
    {
     "data": {
      "text/html": [
       "<div>\n",
       "<style>\n",
       "    .dataframe thead tr:only-child th {\n",
       "        text-align: right;\n",
       "    }\n",
       "\n",
       "    .dataframe thead th {\n",
       "        text-align: left;\n",
       "    }\n",
       "\n",
       "    .dataframe tbody tr th {\n",
       "        vertical-align: top;\n",
       "    }\n",
       "</style>\n",
       "<table border=\"1\" class=\"dataframe\">\n",
       "  <thead>\n",
       "    <tr style=\"text-align: right;\">\n",
       "      <th></th>\n",
       "      <th>nombre</th>\n",
       "      <th>producto</th>\n",
       "    </tr>\n",
       "    <tr>\n",
       "      <th>id</th>\n",
       "      <th></th>\n",
       "      <th></th>\n",
       "    </tr>\n",
       "  </thead>\n",
       "  <tbody>\n",
       "  </tbody>\n",
       "</table>\n",
       "</div>"
      ],
      "text/plain": [
       "Empty DataFrame\n",
       "Columns: [nombre, producto]\n",
       "Index: []"
      ]
     },
     "execution_count": 15,
     "metadata": {},
     "output_type": "execute_result"
    }
   ],
   "source": [
    "df_ciudades = pd.read_sql(\"select * from \\\"Ciudad\\\"\", engine, index_col='id')\n",
    "df_ciudades.head(5)"
   ]
  },
  {
   "cell_type": "markdown",
   "metadata": {},
   "source": [
    "### Lectura CSV"
   ]
  },
  {
   "cell_type": "code",
   "execution_count": 16,
   "metadata": {},
   "outputs": [
    {
     "data": {
      "text/html": [
       "<div>\n",
       "<style>\n",
       "    .dataframe thead tr:only-child th {\n",
       "        text-align: right;\n",
       "    }\n",
       "\n",
       "    .dataframe thead th {\n",
       "        text-align: left;\n",
       "    }\n",
       "\n",
       "    .dataframe tbody tr th {\n",
       "        vertical-align: top;\n",
       "    }\n",
       "</style>\n",
       "<table border=\"1\" class=\"dataframe\">\n",
       "  <thead>\n",
       "    <tr style=\"text-align: right;\">\n",
       "      <th></th>\n",
       "      <th>nombre</th>\n",
       "      <th>precio</th>\n",
       "      <th>localidad</th>\n",
       "      <th>tipoProducto</th>\n",
       "    </tr>\n",
       "    <tr>\n",
       "      <th>id</th>\n",
       "      <th></th>\n",
       "      <th></th>\n",
       "      <th></th>\n",
       "      <th></th>\n",
       "    </tr>\n",
       "  </thead>\n",
       "  <tbody>\n",
       "    <tr>\n",
       "      <th>1</th>\n",
       "      <td>Nathan</td>\n",
       "      <td>$852.82</td>\n",
       "      <td>2</td>\n",
       "      <td>8</td>\n",
       "    </tr>\n",
       "    <tr>\n",
       "      <th>2</th>\n",
       "      <td>Abramo</td>\n",
       "      <td>$249.03</td>\n",
       "      <td>2</td>\n",
       "      <td>7</td>\n",
       "    </tr>\n",
       "    <tr>\n",
       "      <th>3</th>\n",
       "      <td>Ethelyn</td>\n",
       "      <td>$769.93</td>\n",
       "      <td>4</td>\n",
       "      <td>2</td>\n",
       "    </tr>\n",
       "    <tr>\n",
       "      <th>4</th>\n",
       "      <td>Von</td>\n",
       "      <td>$32.94</td>\n",
       "      <td>7</td>\n",
       "      <td>2</td>\n",
       "    </tr>\n",
       "    <tr>\n",
       "      <th>5</th>\n",
       "      <td>Latrena</td>\n",
       "      <td>$762.18</td>\n",
       "      <td>5</td>\n",
       "      <td>10</td>\n",
       "    </tr>\n",
       "  </tbody>\n",
       "</table>\n",
       "</div>"
      ],
      "text/plain": [
       "     nombre   precio  localidad  tipoProducto\n",
       "id                                           \n",
       "1    Nathan  $852.82          2             8\n",
       "2    Abramo  $249.03          2             7\n",
       "3   Ethelyn  $769.93          4             2\n",
       "4       Von   $32.94          7             2\n",
       "5   Latrena  $762.18          5            10"
      ]
     },
     "execution_count": 16,
     "metadata": {},
     "output_type": "execute_result"
    }
   ],
   "source": [
    "datos_producto = 'data/MOCK_DATA-tp3-punto3-bd-producto.csv'\n",
    "df_producto = pd.DataFrame.from_csv(datos_producto,sep=',',index_col='id')\n",
    "df_producto.head(5)"
   ]
  },
  {
   "cell_type": "markdown",
   "metadata": {},
   "source": [
    "### Lectura JSON"
   ]
  },
  {
   "cell_type": "code",
   "execution_count": 17,
   "metadata": {},
   "outputs": [
    {
     "data": {
      "text/html": [
       "<div>\n",
       "<style>\n",
       "    .dataframe thead tr:only-child th {\n",
       "        text-align: right;\n",
       "    }\n",
       "\n",
       "    .dataframe thead th {\n",
       "        text-align: left;\n",
       "    }\n",
       "\n",
       "    .dataframe tbody tr th {\n",
       "        vertical-align: top;\n",
       "    }\n",
       "</style>\n",
       "<table border=\"1\" class=\"dataframe\">\n",
       "  <thead>\n",
       "    <tr style=\"text-align: right;\">\n",
       "      <th></th>\n",
       "      <th>nombre</th>\n",
       "    </tr>\n",
       "    <tr>\n",
       "      <th>id</th>\n",
       "      <th></th>\n",
       "    </tr>\n",
       "  </thead>\n",
       "  <tbody>\n",
       "    <tr>\n",
       "      <th>1</th>\n",
       "      <td>Wells Fargo &amp; Company</td>\n",
       "    </tr>\n",
       "    <tr>\n",
       "      <th>2</th>\n",
       "      <td>Matlin &amp; Partners Acquisition Corporation</td>\n",
       "    </tr>\n",
       "    <tr>\n",
       "      <th>3</th>\n",
       "      <td>Nabors Industries Ltd.</td>\n",
       "    </tr>\n",
       "    <tr>\n",
       "      <th>4</th>\n",
       "      <td>American Financial Group, Inc.</td>\n",
       "    </tr>\n",
       "    <tr>\n",
       "      <th>5</th>\n",
       "      <td>Axis Capital Holdings Limited</td>\n",
       "    </tr>\n",
       "  </tbody>\n",
       "</table>\n",
       "</div>"
      ],
      "text/plain": [
       "                                       nombre\n",
       "id                                           \n",
       "1                       Wells Fargo & Company\n",
       "2   Matlin & Partners Acquisition Corporation\n",
       "3                      Nabors Industries Ltd.\n",
       "4              American Financial Group, Inc.\n",
       "5               Axis Capital Holdings Limited"
      ]
     },
     "execution_count": 17,
     "metadata": {},
     "output_type": "execute_result"
    }
   ],
   "source": [
    "datos_tipo_producto = 'data/MOCK_DATA-tp3-punto3-json2-tipoProducto.json'\n",
    "df_tipoProducto = pd.read_json(datos_tipo_producto)\n",
    "df_tipoProducto= df_tipoProducto.set_index('id')\n",
    "df_tipoProducto.head(5)"
   ]
  },
  {
   "cell_type": "markdown",
   "metadata": {},
   "source": [
    "## 2) De los tres DataFrames realizar join, merge, concat, append, con una clave a eleccion."
   ]
  },
  {
   "cell_type": "code",
   "execution_count": 18,
   "metadata": {},
   "outputs": [],
   "source": [
    "frames = [df_ciudades, df_producto, df_tipoProducto]"
   ]
  },
  {
   "cell_type": "code",
   "execution_count": 19,
   "metadata": {},
   "outputs": [
    {
     "data": {
      "text/html": [
       "<div>\n",
       "<style>\n",
       "    .dataframe thead tr:only-child th {\n",
       "        text-align: right;\n",
       "    }\n",
       "\n",
       "    .dataframe thead th {\n",
       "        text-align: left;\n",
       "    }\n",
       "\n",
       "    .dataframe tbody tr th {\n",
       "        vertical-align: top;\n",
       "    }\n",
       "</style>\n",
       "<table border=\"1\" class=\"dataframe\">\n",
       "  <thead>\n",
       "    <tr style=\"text-align: right;\">\n",
       "      <th></th>\n",
       "      <th>localidad</th>\n",
       "      <th>nombre</th>\n",
       "      <th>precio</th>\n",
       "      <th>producto</th>\n",
       "      <th>tipoProducto</th>\n",
       "    </tr>\n",
       "    <tr>\n",
       "      <th>id</th>\n",
       "      <th></th>\n",
       "      <th></th>\n",
       "      <th></th>\n",
       "      <th></th>\n",
       "      <th></th>\n",
       "    </tr>\n",
       "  </thead>\n",
       "  <tbody>\n",
       "    <tr>\n",
       "      <th>1</th>\n",
       "      <td>2.0</td>\n",
       "      <td>Nathan</td>\n",
       "      <td>$852.82</td>\n",
       "      <td>NaN</td>\n",
       "      <td>8.0</td>\n",
       "    </tr>\n",
       "    <tr>\n",
       "      <th>2</th>\n",
       "      <td>2.0</td>\n",
       "      <td>Abramo</td>\n",
       "      <td>$249.03</td>\n",
       "      <td>NaN</td>\n",
       "      <td>7.0</td>\n",
       "    </tr>\n",
       "    <tr>\n",
       "      <th>3</th>\n",
       "      <td>4.0</td>\n",
       "      <td>Ethelyn</td>\n",
       "      <td>$769.93</td>\n",
       "      <td>NaN</td>\n",
       "      <td>2.0</td>\n",
       "    </tr>\n",
       "    <tr>\n",
       "      <th>4</th>\n",
       "      <td>7.0</td>\n",
       "      <td>Von</td>\n",
       "      <td>$32.94</td>\n",
       "      <td>NaN</td>\n",
       "      <td>2.0</td>\n",
       "    </tr>\n",
       "    <tr>\n",
       "      <th>5</th>\n",
       "      <td>5.0</td>\n",
       "      <td>Latrena</td>\n",
       "      <td>$762.18</td>\n",
       "      <td>NaN</td>\n",
       "      <td>10.0</td>\n",
       "    </tr>\n",
       "  </tbody>\n",
       "</table>\n",
       "</div>"
      ],
      "text/plain": [
       "    localidad   nombre   precio producto  tipoProducto\n",
       "id                                                    \n",
       "1         2.0   Nathan  $852.82      NaN           8.0\n",
       "2         2.0   Abramo  $249.03      NaN           7.0\n",
       "3         4.0  Ethelyn  $769.93      NaN           2.0\n",
       "4         7.0      Von   $32.94      NaN           2.0\n",
       "5         5.0  Latrena  $762.18      NaN          10.0"
      ]
     },
     "execution_count": 19,
     "metadata": {},
     "output_type": "execute_result"
    }
   ],
   "source": [
    "resultConcatenacion = pd.concat(frames)\n",
    "resultConcatenacion.head(5)"
   ]
  },
  {
   "cell_type": "code",
   "execution_count": 20,
   "metadata": {},
   "outputs": [
    {
     "data": {
      "text/html": [
       "<div>\n",
       "<style>\n",
       "    .dataframe thead tr:only-child th {\n",
       "        text-align: right;\n",
       "    }\n",
       "\n",
       "    .dataframe thead th {\n",
       "        text-align: left;\n",
       "    }\n",
       "\n",
       "    .dataframe tbody tr th {\n",
       "        vertical-align: top;\n",
       "    }\n",
       "</style>\n",
       "<table border=\"1\" class=\"dataframe\">\n",
       "  <thead>\n",
       "    <tr style=\"text-align: right;\">\n",
       "      <th></th>\n",
       "      <th>nombre</th>\n",
       "      <th>precio</th>\n",
       "      <th>localidad</th>\n",
       "      <th>tipoProducto</th>\n",
       "      <th>producto</th>\n",
       "    </tr>\n",
       "  </thead>\n",
       "  <tbody>\n",
       "  </tbody>\n",
       "</table>\n",
       "</div>"
      ],
      "text/plain": [
       "Empty DataFrame\n",
       "Columns: [nombre, precio, localidad, tipoProducto, producto]\n",
       "Index: []"
      ]
     },
     "execution_count": 20,
     "metadata": {},
     "output_type": "execute_result"
    }
   ],
   "source": [
    "resultMerge = pd.merge(df_producto, df_ciudades)\n",
    "resultMerge.head(5)"
   ]
  },
  {
   "cell_type": "code",
   "execution_count": 21,
   "metadata": {},
   "outputs": [
    {
     "data": {
      "text/html": [
       "<div>\n",
       "<style>\n",
       "    .dataframe thead tr:only-child th {\n",
       "        text-align: right;\n",
       "    }\n",
       "\n",
       "    .dataframe thead th {\n",
       "        text-align: left;\n",
       "    }\n",
       "\n",
       "    .dataframe tbody tr th {\n",
       "        vertical-align: top;\n",
       "    }\n",
       "</style>\n",
       "<table border=\"1\" class=\"dataframe\">\n",
       "  <thead>\n",
       "    <tr style=\"text-align: right;\">\n",
       "      <th></th>\n",
       "      <th>nombre</th>\n",
       "      <th>precio</th>\n",
       "      <th>localidad</th>\n",
       "      <th>tipoProducto</th>\n",
       "    </tr>\n",
       "    <tr>\n",
       "      <th>id</th>\n",
       "      <th></th>\n",
       "      <th></th>\n",
       "      <th></th>\n",
       "      <th></th>\n",
       "    </tr>\n",
       "  </thead>\n",
       "  <tbody>\n",
       "    <tr>\n",
       "      <th>1</th>\n",
       "      <td>Ferd</td>\n",
       "      <td>$188.24</td>\n",
       "      <td>3</td>\n",
       "      <td>8</td>\n",
       "    </tr>\n",
       "    <tr>\n",
       "      <th>2</th>\n",
       "      <td>Nollie</td>\n",
       "      <td>$584.78</td>\n",
       "      <td>3</td>\n",
       "      <td>8</td>\n",
       "    </tr>\n",
       "    <tr>\n",
       "      <th>3</th>\n",
       "      <td>Kelly</td>\n",
       "      <td>$887.78</td>\n",
       "      <td>8</td>\n",
       "      <td>7</td>\n",
       "    </tr>\n",
       "    <tr>\n",
       "      <th>4</th>\n",
       "      <td>Vick</td>\n",
       "      <td>$651.07</td>\n",
       "      <td>5</td>\n",
       "      <td>4</td>\n",
       "    </tr>\n",
       "    <tr>\n",
       "      <th>5</th>\n",
       "      <td>Rosaleen</td>\n",
       "      <td>$131.19</td>\n",
       "      <td>9</td>\n",
       "      <td>7</td>\n",
       "    </tr>\n",
       "  </tbody>\n",
       "</table>\n",
       "</div>"
      ],
      "text/plain": [
       "      nombre   precio  localidad  tipoProducto\n",
       "id                                            \n",
       "1       Ferd  $188.24          3             8\n",
       "2     Nollie  $584.78          3             8\n",
       "3      Kelly  $887.78          8             7\n",
       "4       Vick  $651.07          5             4\n",
       "5   Rosaleen  $131.19          9             7"
      ]
     },
     "execution_count": 21,
     "metadata": {},
     "output_type": "execute_result"
    }
   ],
   "source": [
    "datos_producto2 = 'data/MOCK_DATA-tp3-punto3-bd-producto2.csv'\n",
    "df_producto2 = pd.DataFrame.from_csv(datos_producto2,sep=',',index_col='id')\n",
    "df_producto2.head(5)"
   ]
  },
  {
   "cell_type": "code",
   "execution_count": 22,
   "metadata": {},
   "outputs": [
    {
     "data": {
      "text/html": [
       "<div>\n",
       "<style>\n",
       "    .dataframe thead tr:only-child th {\n",
       "        text-align: right;\n",
       "    }\n",
       "\n",
       "    .dataframe thead th {\n",
       "        text-align: left;\n",
       "    }\n",
       "\n",
       "    .dataframe tbody tr th {\n",
       "        vertical-align: top;\n",
       "    }\n",
       "</style>\n",
       "<table border=\"1\" class=\"dataframe\">\n",
       "  <thead>\n",
       "    <tr style=\"text-align: right;\">\n",
       "      <th></th>\n",
       "      <th>nombre</th>\n",
       "      <th>precio</th>\n",
       "      <th>localidad</th>\n",
       "      <th>tipoProducto</th>\n",
       "    </tr>\n",
       "    <tr>\n",
       "      <th>id</th>\n",
       "      <th></th>\n",
       "      <th></th>\n",
       "      <th></th>\n",
       "      <th></th>\n",
       "    </tr>\n",
       "  </thead>\n",
       "  <tbody>\n",
       "    <tr>\n",
       "      <th>1</th>\n",
       "      <td>Nathan</td>\n",
       "      <td>$852.82</td>\n",
       "      <td>2</td>\n",
       "      <td>8</td>\n",
       "    </tr>\n",
       "    <tr>\n",
       "      <th>2</th>\n",
       "      <td>Abramo</td>\n",
       "      <td>$249.03</td>\n",
       "      <td>2</td>\n",
       "      <td>7</td>\n",
       "    </tr>\n",
       "    <tr>\n",
       "      <th>3</th>\n",
       "      <td>Ethelyn</td>\n",
       "      <td>$769.93</td>\n",
       "      <td>4</td>\n",
       "      <td>2</td>\n",
       "    </tr>\n",
       "    <tr>\n",
       "      <th>4</th>\n",
       "      <td>Von</td>\n",
       "      <td>$32.94</td>\n",
       "      <td>7</td>\n",
       "      <td>2</td>\n",
       "    </tr>\n",
       "    <tr>\n",
       "      <th>5</th>\n",
       "      <td>Latrena</td>\n",
       "      <td>$762.18</td>\n",
       "      <td>5</td>\n",
       "      <td>10</td>\n",
       "    </tr>\n",
       "  </tbody>\n",
       "</table>\n",
       "</div>"
      ],
      "text/plain": [
       "     nombre   precio  localidad  tipoProducto\n",
       "id                                           \n",
       "1    Nathan  $852.82          2             8\n",
       "2    Abramo  $249.03          2             7\n",
       "3   Ethelyn  $769.93          4             2\n",
       "4       Von   $32.94          7             2\n",
       "5   Latrena  $762.18          5            10"
      ]
     },
     "execution_count": 22,
     "metadata": {},
     "output_type": "execute_result"
    }
   ],
   "source": [
    "resultAppend = df_producto.append(df_producto2)\n",
    "resultAppend.head(5)"
   ]
  },
  {
   "cell_type": "code",
   "execution_count": 23,
   "metadata": {},
   "outputs": [
    {
     "data": {
      "text/html": [
       "<div>\n",
       "<style>\n",
       "    .dataframe thead tr:only-child th {\n",
       "        text-align: right;\n",
       "    }\n",
       "\n",
       "    .dataframe thead th {\n",
       "        text-align: left;\n",
       "    }\n",
       "\n",
       "    .dataframe tbody tr th {\n",
       "        vertical-align: top;\n",
       "    }\n",
       "</style>\n",
       "<table border=\"1\" class=\"dataframe\">\n",
       "  <thead>\n",
       "    <tr style=\"text-align: right;\">\n",
       "      <th></th>\n",
       "      <th>nombre</th>\n",
       "      <th>precio</th>\n",
       "      <th>localidad</th>\n",
       "      <th>tipoProducto</th>\n",
       "    </tr>\n",
       "  </thead>\n",
       "  <tbody>\n",
       "    <tr>\n",
       "      <th>0</th>\n",
       "      <td>Nathan</td>\n",
       "      <td>$852.82</td>\n",
       "      <td>2</td>\n",
       "      <td>8</td>\n",
       "    </tr>\n",
       "    <tr>\n",
       "      <th>1</th>\n",
       "      <td>Abramo</td>\n",
       "      <td>$249.03</td>\n",
       "      <td>2</td>\n",
       "      <td>7</td>\n",
       "    </tr>\n",
       "    <tr>\n",
       "      <th>2</th>\n",
       "      <td>Ethelyn</td>\n",
       "      <td>$769.93</td>\n",
       "      <td>4</td>\n",
       "      <td>2</td>\n",
       "    </tr>\n",
       "    <tr>\n",
       "      <th>3</th>\n",
       "      <td>Von</td>\n",
       "      <td>$32.94</td>\n",
       "      <td>7</td>\n",
       "      <td>2</td>\n",
       "    </tr>\n",
       "    <tr>\n",
       "      <th>4</th>\n",
       "      <td>Latrena</td>\n",
       "      <td>$762.18</td>\n",
       "      <td>5</td>\n",
       "      <td>10</td>\n",
       "    </tr>\n",
       "  </tbody>\n",
       "</table>\n",
       "</div>"
      ],
      "text/plain": [
       "    nombre   precio  localidad  tipoProducto\n",
       "0   Nathan  $852.82          2             8\n",
       "1   Abramo  $249.03          2             7\n",
       "2  Ethelyn  $769.93          4             2\n",
       "3      Von   $32.94          7             2\n",
       "4  Latrena  $762.18          5            10"
      ]
     },
     "execution_count": 23,
     "metadata": {},
     "output_type": "execute_result"
    }
   ],
   "source": [
    "resultadoJoinAll=pd.merge(df_producto, df_producto2, how='outer')\n",
    "resultadoJoinAll.head(5)"
   ]
  },
  {
   "cell_type": "markdown",
   "metadata": {},
   "source": [
    "## 3) Guardar en una db SQL, la interseccion de los datos obtenidos en el punto anterior."
   ]
  },
  {
   "cell_type": "code",
   "execution_count": 24,
   "metadata": {},
   "outputs": [
    {
     "name": "stdout",
     "output_type": "stream",
     "text": [
      "2017-10-08 01:28:30,696 INFO sqlalchemy.engine.base.Engine select relname from pg_class c join pg_namespace n on n.oid=c.relnamespace where pg_catalog.pg_table_is_visible(c.oid) and relname=%(name)s\n",
      "2017-10-08 01:28:30,697 INFO sqlalchemy.engine.base.Engine {'name': u'resultadoJoinAll'}\n",
      "2017-10-08 01:28:30,714 INFO sqlalchemy.engine.base.Engine \n",
      "CREATE TABLE \"resultadoJoinAll\" (\n",
      "\tindex BIGINT, \n",
      "\tnombre TEXT, \n",
      "\tprecio TEXT, \n",
      "\tlocalidad BIGINT, \n",
      "\t\"tipoProducto\" BIGINT\n",
      ")\n",
      "\n",
      "\n",
      "2017-10-08 01:28:30,724 INFO sqlalchemy.engine.base.Engine {}\n",
      "2017-10-08 01:28:30,810 INFO sqlalchemy.engine.base.Engine COMMIT\n",
      "2017-10-08 01:28:30,868 INFO sqlalchemy.engine.base.Engine CREATE INDEX \"ix_resultadoJoinAll_index\" ON \"resultadoJoinAll\" (index)\n",
      "2017-10-08 01:28:30,870 INFO sqlalchemy.engine.base.Engine {}\n",
      "2017-10-08 01:28:30,933 INFO sqlalchemy.engine.base.Engine COMMIT\n",
      "2017-10-08 01:28:30,965 INFO sqlalchemy.engine.base.Engine BEGIN (implicit)\n",
      "2017-10-08 01:28:31,011 INFO sqlalchemy.engine.base.Engine INSERT INTO \"resultadoJoinAll\" (index, nombre, precio, localidad, \"tipoProducto\") VALUES (%(index)s, %(nombre)s, %(precio)s, %(localidad)s, %(tipoProducto)s)\n",
      "2017-10-08 01:28:31,013 INFO sqlalchemy.engine.base.Engine ({'localidad': 2, 'index': 0, 'precio': '$852.82', 'tipoProducto': 8, 'nombre': 'Nathan'}, {'localidad': 2, 'index': 1, 'precio': '$249.03', 'tipoProducto': 7, 'nombre': 'Abramo'}, {'localidad': 4, 'index': 2, 'precio': '$769.93', 'tipoProducto': 2, 'nombre': 'Ethelyn'}, {'localidad': 7, 'index': 3, 'precio': '$32.94', 'tipoProducto': 2, 'nombre': 'Von'}, {'localidad': 5, 'index': 4, 'precio': '$762.18', 'tipoProducto': 10, 'nombre': 'Latrena'}, {'localidad': 3, 'index': 5, 'precio': '$511.36', 'tipoProducto': 9, 'nombre': 'Ancell'}, {'localidad': 5, 'index': 6, 'precio': '$416.98', 'tipoProducto': 2, 'nombre': 'Boy'}, {'localidad': 10, 'index': 7, 'precio': '$255.66', 'tipoProducto': 8, 'nombre': 'Holly-anne'}  ... displaying 10 of 2000 total bound parameter sets ...  {'localidad': 6, 'index': 1998, 'precio': '$778.73', 'tipoProducto': 1, 'nombre': 'Pincus'}, {'localidad': 4, 'index': 1999, 'precio': '$761.92', 'tipoProducto': 5, 'nombre': 'Gard'})\n",
      "2017-10-08 01:28:31,312 INFO sqlalchemy.engine.base.Engine COMMIT\n",
      "2017-10-08 01:28:31,327 INFO sqlalchemy.engine.base.Engine SELECT c.relname FROM pg_class c JOIN pg_namespace n ON n.oid = c.relnamespace WHERE n.nspname = %(schema)s AND c.relkind = 'r'\n",
      "2017-10-08 01:28:31,328 INFO sqlalchemy.engine.base.Engine {'schema': u'public'}\n",
      "2017-10-08 01:28:31,349 INFO sqlalchemy.engine.base.Engine select relname from pg_class c join pg_namespace n on n.oid=c.relnamespace where pg_catalog.pg_table_is_visible(c.oid) and relname=%(name)s\n",
      "2017-10-08 01:28:31,354 INFO sqlalchemy.engine.base.Engine {'name': u'resultadoAppend'}\n",
      "2017-10-08 01:28:31,361 INFO sqlalchemy.engine.base.Engine \n",
      "CREATE TABLE \"resultadoAppend\" (\n",
      "\tid BIGINT, \n",
      "\tnombre TEXT, \n",
      "\tprecio TEXT, \n",
      "\tlocalidad BIGINT, \n",
      "\t\"tipoProducto\" BIGINT\n",
      ")\n",
      "\n",
      "\n",
      "2017-10-08 01:28:31,364 INFO sqlalchemy.engine.base.Engine {}\n",
      "2017-10-08 01:28:31,401 INFO sqlalchemy.engine.base.Engine COMMIT\n",
      "2017-10-08 01:28:31,415 INFO sqlalchemy.engine.base.Engine CREATE INDEX \"ix_resultadoAppend_id\" ON \"resultadoAppend\" (id)\n",
      "2017-10-08 01:28:31,416 INFO sqlalchemy.engine.base.Engine {}\n",
      "2017-10-08 01:28:31,446 INFO sqlalchemy.engine.base.Engine COMMIT\n",
      "2017-10-08 01:28:31,460 INFO sqlalchemy.engine.base.Engine BEGIN (implicit)\n",
      "2017-10-08 01:28:31,506 INFO sqlalchemy.engine.base.Engine INSERT INTO \"resultadoAppend\" (id, nombre, precio, localidad, \"tipoProducto\") VALUES (%(id)s, %(nombre)s, %(precio)s, %(localidad)s, %(tipoProducto)s)\n",
      "2017-10-08 01:28:31,507 INFO sqlalchemy.engine.base.Engine ({'localidad': 2, 'nombre': 'Nathan', 'precio': '$852.82', 'id': 1, 'tipoProducto': 8}, {'localidad': 2, 'nombre': 'Abramo', 'precio': '$249.03', 'id': 2, 'tipoProducto': 7}, {'localidad': 4, 'nombre': 'Ethelyn', 'precio': '$769.93', 'id': 3, 'tipoProducto': 2}, {'localidad': 7, 'nombre': 'Von', 'precio': '$32.94', 'id': 4, 'tipoProducto': 2}, {'localidad': 5, 'nombre': 'Latrena', 'precio': '$762.18', 'id': 5, 'tipoProducto': 10}, {'localidad': 3, 'nombre': 'Ancell', 'precio': '$511.36', 'id': 6, 'tipoProducto': 9}, {'localidad': 5, 'nombre': 'Boy', 'precio': '$416.98', 'id': 7, 'tipoProducto': 2}, {'localidad': 10, 'nombre': 'Holly-anne', 'precio': '$255.66', 'id': 8, 'tipoProducto': 8}  ... displaying 10 of 2000 total bound parameter sets ...  {'localidad': 6, 'nombre': 'Pincus', 'precio': '$778.73', 'id': 999, 'tipoProducto': 1}, {'localidad': 4, 'nombre': 'Gard', 'precio': '$761.92', 'id': 1000, 'tipoProducto': 5})\n",
      "2017-10-08 01:28:31,943 INFO sqlalchemy.engine.base.Engine COMMIT\n",
      "2017-10-08 01:28:31,967 INFO sqlalchemy.engine.base.Engine SELECT c.relname FROM pg_class c JOIN pg_namespace n ON n.oid = c.relnamespace WHERE n.nspname = %(schema)s AND c.relkind = 'r'\n",
      "2017-10-08 01:28:31,968 INFO sqlalchemy.engine.base.Engine {'schema': u'public'}\n",
      "2017-10-08 01:28:31,983 INFO sqlalchemy.engine.base.Engine select relname from pg_class c join pg_namespace n on n.oid=c.relnamespace where pg_catalog.pg_table_is_visible(c.oid) and relname=%(name)s\n",
      "2017-10-08 01:28:31,984 INFO sqlalchemy.engine.base.Engine {'name': u'resultadoConcatenacion'}\n",
      "2017-10-08 01:28:31,989 INFO sqlalchemy.engine.base.Engine \n",
      "CREATE TABLE \"resultadoConcatenacion\" (\n",
      "\tid BIGINT, \n",
      "\tlocalidad FLOAT(53), \n",
      "\tnombre TEXT, \n",
      "\tprecio TEXT, \n",
      "\tproducto FLOAT(53), \n",
      "\t\"tipoProducto\" FLOAT(53)\n",
      ")\n",
      "\n",
      "\n",
      "2017-10-08 01:28:31,993 INFO sqlalchemy.engine.base.Engine {}\n",
      "2017-10-08 01:28:32,047 INFO sqlalchemy.engine.base.Engine COMMIT\n",
      "2017-10-08 01:28:32,065 INFO sqlalchemy.engine.base.Engine CREATE INDEX \"ix_resultadoConcatenacion_id\" ON \"resultadoConcatenacion\" (id)\n",
      "2017-10-08 01:28:32,066 INFO sqlalchemy.engine.base.Engine {}\n",
      "2017-10-08 01:28:32,103 INFO sqlalchemy.engine.base.Engine COMMIT\n",
      "2017-10-08 01:28:32,124 INFO sqlalchemy.engine.base.Engine BEGIN (implicit)\n",
      "2017-10-08 01:28:32,173 INFO sqlalchemy.engine.base.Engine INSERT INTO \"resultadoConcatenacion\" (id, localidad, nombre, precio, producto, \"tipoProducto\") VALUES (%(id)s, %(localidad)s, %(nombre)s, %(precio)s, %(producto)s, %(tipoProducto)s)\n",
      "2017-10-08 01:28:32,175 INFO sqlalchemy.engine.base.Engine ({'producto': None, 'precio': '$852.82', 'localidad': 2.0, 'nombre': 'Nathan', 'id': 1, 'tipoProducto': 8.0}, {'producto': None, 'precio': '$249.03', 'localidad': 2.0, 'nombre': 'Abramo', 'id': 2, 'tipoProducto': 7.0}, {'producto': None, 'precio': '$769.93', 'localidad': 4.0, 'nombre': 'Ethelyn', 'id': 3, 'tipoProducto': 2.0}, {'producto': None, 'precio': '$32.94', 'localidad': 7.0, 'nombre': 'Von', 'id': 4, 'tipoProducto': 2.0}, {'producto': None, 'precio': '$762.18', 'localidad': 5.0, 'nombre': 'Latrena', 'id': 5, 'tipoProducto': 10.0}, {'producto': None, 'precio': '$511.36', 'localidad': 3.0, 'nombre': 'Ancell', 'id': 6, 'tipoProducto': 9.0}, {'producto': None, 'precio': '$416.98', 'localidad': 5.0, 'nombre': 'Boy', 'id': 7, 'tipoProducto': 2.0}, {'producto': None, 'precio': '$255.66', 'localidad': 10.0, 'nombre': 'Holly-anne', 'id': 8, 'tipoProducto': 8.0}  ... displaying 10 of 2000 total bound parameter sets ...  {'producto': None, 'precio': None, 'localidad': None, 'nombre': u'AmTrust Financial Services, Inc.', 'id': 999, 'tipoProducto': None}, {'producto': None, 'precio': None, 'localidad': None, 'nombre': u'First Trust Latin America AlphaDEX Fund', 'id': 1000, 'tipoProducto': None})\n",
      "2017-10-08 01:28:32,590 INFO sqlalchemy.engine.base.Engine COMMIT\n",
      "2017-10-08 01:28:32,606 INFO sqlalchemy.engine.base.Engine SELECT c.relname FROM pg_class c JOIN pg_namespace n ON n.oid = c.relnamespace WHERE n.nspname = %(schema)s AND c.relkind = 'r'\n",
      "2017-10-08 01:28:32,609 INFO sqlalchemy.engine.base.Engine {'schema': u'public'}\n",
      "2017-10-08 01:28:32,616 INFO sqlalchemy.engine.base.Engine select relname from pg_class c join pg_namespace n on n.oid=c.relnamespace where pg_catalog.pg_table_is_visible(c.oid) and relname=%(name)s\n",
      "2017-10-08 01:28:32,618 INFO sqlalchemy.engine.base.Engine {'name': u'resultadoMerge'}\n",
      "2017-10-08 01:28:32,625 INFO sqlalchemy.engine.base.Engine \n",
      "CREATE TABLE \"resultadoMerge\" (\n",
      "\tindex TEXT, \n",
      "\tnombre TEXT, \n",
      "\tprecio TEXT, \n",
      "\tlocalidad BIGINT, \n",
      "\t\"tipoProducto\" BIGINT, \n",
      "\tproducto TEXT\n",
      ")\n",
      "\n",
      "\n"
     ]
    },
    {
     "name": "stdout",
     "output_type": "stream",
     "text": [
      "2017-10-08 01:28:32,628 INFO sqlalchemy.engine.base.Engine {}\n",
      "2017-10-08 01:28:32,670 INFO sqlalchemy.engine.base.Engine COMMIT\n",
      "2017-10-08 01:28:32,684 INFO sqlalchemy.engine.base.Engine CREATE INDEX \"ix_resultadoMerge_index\" ON \"resultadoMerge\" (index)\n",
      "2017-10-08 01:28:32,685 INFO sqlalchemy.engine.base.Engine {}\n",
      "2017-10-08 01:28:32,727 INFO sqlalchemy.engine.base.Engine COMMIT\n",
      "2017-10-08 01:28:32,741 INFO sqlalchemy.engine.base.Engine SELECT c.relname FROM pg_class c JOIN pg_namespace n ON n.oid = c.relnamespace WHERE n.nspname = %(schema)s AND c.relkind = 'r'\n",
      "2017-10-08 01:28:32,743 INFO sqlalchemy.engine.base.Engine {'schema': u'public'}\n"
     ]
    }
   ],
   "source": [
    "#DataFrame.to_sql(name, con[, flavor, ...])\tWrite records stored in a DataFrame to a SQL database.\n",
    "resultadoJoinAll.to_sql('resultadoJoinAll', engine,if_exists='replace')\n",
    "resultAppend.to_sql('resultadoAppend', engine, if_exists='replace')\n",
    "resultConcatenacion.to_sql('resultadoConcatenacion', engine, if_exists='replace')\n",
    "resultMerge.to_sql('resultadoMerge', engine, if_exists='replace')"
   ]
  }
 ],
 "metadata": {
  "kernelspec": {
   "display_name": "Python 2",
   "language": "python",
   "name": "python2"
  },
  "language_info": {
   "codemirror_mode": {
    "name": "ipython",
    "version": 2
   },
   "file_extension": ".py",
   "mimetype": "text/x-python",
   "name": "python",
   "nbconvert_exporter": "python",
   "pygments_lexer": "ipython2",
   "version": "2.7.13"
  }
 },
 "nbformat": 4,
 "nbformat_minor": 2
}
