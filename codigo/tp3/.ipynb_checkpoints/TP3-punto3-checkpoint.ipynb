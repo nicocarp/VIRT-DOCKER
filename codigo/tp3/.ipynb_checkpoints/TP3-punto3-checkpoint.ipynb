{
 "cells": [
  {
   "cell_type": "code",
   "execution_count": 1,
   "metadata": {
    "collapsed": true
   },
   "outputs": [],
   "source": [
    "import sqlalchemy as alchemy\n",
    "from sqlalchemy.ext.declarative import declarative_base\n",
    "from sqlalchemy import Column, Integer, String, Date, Float, BigInteger\n",
    "from sqlalchemy.orm import sessionmaker\n",
    "import matplotlib.pyplot as plt\n",
    "import pandas as pd "
   ]
  },
  {
   "cell_type": "code",
   "execution_count": 2,
   "metadata": {},
   "outputs": [
    {
     "name": "stdout",
     "output_type": "stream",
     "text": [
      "2017-09-05 14:43:27,347 INFO sqlalchemy.engine.base.Engine select version()\n",
      "2017-09-05 14:43:27,348 INFO sqlalchemy.engine.base.Engine {}\n",
      "2017-09-05 14:43:27,353 INFO sqlalchemy.engine.base.Engine select current_schema()\n",
      "2017-09-05 14:43:27,354 INFO sqlalchemy.engine.base.Engine {}\n",
      "2017-09-05 14:43:27,357 INFO sqlalchemy.engine.base.Engine SELECT CAST('test plain returns' AS VARCHAR(60)) AS anon_1\n",
      "2017-09-05 14:43:27,359 INFO sqlalchemy.engine.base.Engine {}\n",
      "2017-09-05 14:43:27,361 INFO sqlalchemy.engine.base.Engine SELECT CAST('test unicode returns' AS VARCHAR(60)) AS anon_1\n",
      "2017-09-05 14:43:27,366 INFO sqlalchemy.engine.base.Engine {}\n",
      "2017-09-05 14:43:27,371 INFO sqlalchemy.engine.base.Engine show standard_conforming_strings\n",
      "2017-09-05 14:43:27,374 INFO sqlalchemy.engine.base.Engine {}\n",
      "2017-09-05 14:43:27,376 INFO sqlalchemy.engine.base.Engine commit\n",
      "2017-09-05 14:43:27,377 INFO sqlalchemy.engine.base.Engine {}\n",
      "2017-09-05 14:43:27,380 INFO sqlalchemy.engine.base.Engine create database tp3punto3\n",
      "2017-09-05 14:43:27,384 INFO sqlalchemy.engine.base.Engine {}\n",
      "2017-09-05 14:43:27,386 INFO sqlalchemy.engine.base.Engine ROLLBACK\n",
      "(psycopg2.ProgrammingError) database \"tp3punto3\" already exists\n",
      " [SQL: 'create database tp3punto3']\n"
     ]
    }
   ],
   "source": [
    "NOMBRE_DB = \"tp3punto3\"\n",
    "USUARIO_DB = 'postgres' #gaston\n",
    "PASSWORD_DB = 'postgres' #gastonm1\n",
    "url_db = 'postgresql+psycopg2://%s:%s@localhost:5432/%s'%(USUARIO_DB, PASSWORD_DB,'')\n",
    "\n",
    "engine = alchemy.create_engine(url_db, echo=True)\n",
    "try:\n",
    "    conn = engine.connect()\n",
    "    conn.execute(\"commit\")\n",
    "    conn.execute(\"create database \" + NOMBRE_DB)\n",
    "    conn.close()\n",
    "except Exception as e:\n",
    "    print str(e)\n",
    "url_db = 'postgresql+psycopg2://%s:%s@localhost:5432/%s'%(USUARIO_DB, PASSWORD_DB, NOMBRE_DB)\n",
    "engine = alchemy.create_engine(url_db, echo=True)\n",
    "\n",
    "Base = declarative_base()"
   ]
  },
  {
   "cell_type": "code",
   "execution_count": 3,
   "metadata": {},
   "outputs": [],
   "source": [
    "class Ciudad(Base):\n",
    "    __tablename__ = 'Ciudad'\n",
    "    \n",
    "    id = Column(Integer, primary_key=True)\n",
    "    nombre = Column(String)\n",
    "    producto = Column(Integer)\n"
   ]
  },
  {
   "cell_type": "code",
   "execution_count": 4,
   "metadata": {},
   "outputs": [
    {
     "name": "stdout",
     "output_type": "stream",
     "text": [
      "2017-09-05 14:43:27,616 INFO sqlalchemy.engine.base.Engine select version()\n",
      "2017-09-05 14:43:27,618 INFO sqlalchemy.engine.base.Engine {}\n",
      "2017-09-05 14:43:27,621 INFO sqlalchemy.engine.base.Engine select current_schema()\n",
      "2017-09-05 14:43:27,630 INFO sqlalchemy.engine.base.Engine {}\n",
      "2017-09-05 14:43:27,641 INFO sqlalchemy.engine.base.Engine SELECT CAST('test plain returns' AS VARCHAR(60)) AS anon_1\n",
      "2017-09-05 14:43:27,642 INFO sqlalchemy.engine.base.Engine {}\n",
      "2017-09-05 14:43:27,648 INFO sqlalchemy.engine.base.Engine SELECT CAST('test unicode returns' AS VARCHAR(60)) AS anon_1\n",
      "2017-09-05 14:43:27,649 INFO sqlalchemy.engine.base.Engine {}\n",
      "2017-09-05 14:43:27,655 INFO sqlalchemy.engine.base.Engine show standard_conforming_strings\n",
      "2017-09-05 14:43:27,660 INFO sqlalchemy.engine.base.Engine {}\n",
      "2017-09-05 14:43:27,666 INFO sqlalchemy.engine.base.Engine select relname from pg_class c join pg_namespace n on n.oid=c.relnamespace where pg_catalog.pg_table_is_visible(c.oid) and relname=%(name)s\n",
      "2017-09-05 14:43:27,672 INFO sqlalchemy.engine.base.Engine {'name': u'Ciudad'}\n"
     ]
    }
   ],
   "source": [
    "Base.metadata.create_all(engine)"
   ]
  },
  {
   "cell_type": "code",
   "execution_count": 8,
   "metadata": {},
   "outputs": [
    {
     "name": "stdout",
     "output_type": "stream",
     "text": [
      "2017-09-05 14:44:08,353 INFO sqlalchemy.engine.base.Engine select relname from pg_class c join pg_namespace n on n.oid=c.relnamespace where pg_catalog.pg_table_is_visible(c.oid) and relname=%(name)s\n",
      "2017-09-05 14:44:08,355 INFO sqlalchemy.engine.base.Engine {'name': u'select * from \"Ciudad\"'}\n",
      "2017-09-05 14:44:08,359 INFO sqlalchemy.engine.base.Engine select * from \"Ciudad\"\n",
      "2017-09-05 14:44:08,363 INFO sqlalchemy.engine.base.Engine {}\n"
     ]
    },
    {
     "data": {
      "text/html": [
       "<div>\n",
       "<style>\n",
       "    .dataframe thead tr:only-child th {\n",
       "        text-align: right;\n",
       "    }\n",
       "\n",
       "    .dataframe thead th {\n",
       "        text-align: left;\n",
       "    }\n",
       "\n",
       "    .dataframe tbody tr th {\n",
       "        vertical-align: top;\n",
       "    }\n",
       "</style>\n",
       "<table border=\"1\" class=\"dataframe\">\n",
       "  <thead>\n",
       "    <tr style=\"text-align: right;\">\n",
       "      <th></th>\n",
       "      <th>nombre</th>\n",
       "      <th>producto</th>\n",
       "    </tr>\n",
       "    <tr>\n",
       "      <th>id</th>\n",
       "      <th></th>\n",
       "      <th></th>\n",
       "    </tr>\n",
       "  </thead>\n",
       "  <tbody>\n",
       "  </tbody>\n",
       "</table>\n",
       "</div>"
      ],
      "text/plain": [
       "Empty DataFrame\n",
       "Columns: [nombre, producto]\n",
       "Index: []"
      ]
     },
     "execution_count": 8,
     "metadata": {},
     "output_type": "execute_result"
    }
   ],
   "source": [
    "df_ciudades = pd.read_sql(\"select * from \\\"Ciudad\\\"\", engine, index_col='id')\n"
   ]
  },
  {
   "cell_type": "code",
   "execution_count": null,
   "metadata": {},
   "outputs": [],
   "source": [
    "df_ciudades.head(5)"
   ]
  },
  {
   "cell_type": "code",
   "execution_count": null,
   "metadata": {
    "collapsed": true
   },
   "outputs": [],
   "source": [
    "datos_producto = 'data/MOCK_DATA-tp3-punto3-bd-producto.csv'\n",
    "df_producto = pd.DataFrame.from_csv(datos_producto,sep=',',index_col='id')"
   ]
  },
  {
   "cell_type": "code",
   "execution_count": null,
   "metadata": {},
   "outputs": [],
   "source": [
    "df_producto.head(5)"
   ]
  },
  {
   "cell_type": "code",
   "execution_count": null,
   "metadata": {
    "collapsed": true
   },
   "outputs": [],
   "source": [
    "datos_tipo_producto = 'data/MOCK_DATA-tp3-punto3-json2-tipoProducto.json'\n",
    "df_tipoProducto = pd.read_json(datos_tipo_producto)"
   ]
  },
  {
   "cell_type": "code",
   "execution_count": null,
   "metadata": {
    "collapsed": true
   },
   "outputs": [],
   "source": [
    "df_tipoProducto= df_tipoProducto.set_index('id')"
   ]
  },
  {
   "cell_type": "code",
   "execution_count": null,
   "metadata": {},
   "outputs": [],
   "source": [
    "df_tipoProducto.head(5)"
   ]
  },
  {
   "cell_type": "code",
   "execution_count": null,
   "metadata": {
    "collapsed": true
   },
   "outputs": [],
   "source": [
    "frames = [df_ciudades, df_producto, df_tipoProducto]"
   ]
  },
  {
   "cell_type": "code",
   "execution_count": null,
   "metadata": {},
   "outputs": [],
   "source": [
    "resultConcatenacion = pd.concat(frames)\n",
    "resultConcatenacion.head(5)"
   ]
  },
  {
   "cell_type": "code",
   "execution_count": null,
   "metadata": {},
   "outputs": [],
   "source": [
    "resultMerge = pd.merge(df_producto, df_ciudades)\n",
    "resultMerge.head(5)"
   ]
  },
  {
   "cell_type": "code",
   "execution_count": null,
   "metadata": {},
   "outputs": [],
   "source": [
    "datos_producto2 = 'data/MOCK_DATA-tp3-punto3-bd-producto2.csv'\n",
    "df_producto2 = pd.DataFrame.from_csv(datos_producto2,sep=',',index_col='id')\n",
    "df_producto2.head(5)"
   ]
  },
  {
   "cell_type": "code",
   "execution_count": null,
   "metadata": {},
   "outputs": [],
   "source": [
    "resultAppend = df_producto.append(df_producto2)\n",
    "resultAppend.head(5)"
   ]
  },
  {
   "cell_type": "code",
   "execution_count": null,
   "metadata": {},
   "outputs": [],
   "source": [
    "resultadoJoinAll=pd.merge(df_producto, df_producto2, how='outer')\n",
    "resultadoJoinAll.head(5)"
   ]
  },
  {
   "cell_type": "code",
   "execution_count": null,
   "metadata": {},
   "outputs": [],
   "source": [
    "#Insertar todos los result en db\n",
    "#DataFrame.to_sql(name, con[, flavor, ...])\tWrite records stored in a DataFrame to a SQL database.\n",
    "resultadoJoinAll.to_sql('resultadoJoinAll', engine,if_exists='replace')\n",
    "resultAppend.to_sql('resultadoAppend', engine, if_exists='replace')\n",
    "resultConcatenacion.to_sql('resultadoConcatenacion', engine, if_exists='replace')\n",
    "resultMerge.to_sql('resultadoMerge', engine, if_exists='replace')"
   ]
  }
 ],
 "metadata": {
  "kernelspec": {
   "display_name": "Python 2",
   "language": "python",
   "name": "python2"
  },
  "language_info": {
   "codemirror_mode": {
    "name": "ipython",
    "version": 2
   },
   "file_extension": ".py",
   "mimetype": "text/x-python",
   "name": "python",
   "nbconvert_exporter": "python",
   "pygments_lexer": "ipython2",
   "version": "2.7.12"
  }
 },
 "nbformat": 4,
 "nbformat_minor": 2
}
